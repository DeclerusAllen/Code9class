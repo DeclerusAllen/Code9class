{
 "cells": [
  {
   "cell_type": "markdown",
   "metadata": {},
   "source": [
    "1) Yo ba w yon lis nonb ki reprezante laj yon gwoup moun, ekri yon fonksyon Python ki pou kalkile mwayèn laj gwoup sa."
   ]
  },
  {
   "cell_type": "code",
   "execution_count": 24,
   "metadata": {},
   "outputs": [
    {
     "name": "stdout",
     "output_type": "stream",
     "text": [
      "mwayenn laj yo se:  32.7\n"
     ]
    }
   ],
   "source": [
    "def moyenne(lis_age):\n",
    "    return (sum(lis_age))/(len(lis_age))\n",
    "\n",
    "lis=[23, 45, 34, 24, 26, 29, 31, 40, 38, 37]\n",
    "print(\"mwayenn laj yo se: \", moyenne(lis))"
   ]
  },
  {
   "cell_type": "markdown",
   "metadata": {},
   "source": [
    "2) Yo ba w yon lis nonb ki reprezante nòt yon gwoup etidyan ki pase yon tès, ekri yon fonksyon ki pou kalkile varyans nòt yo:"
   ]
  },
  {
   "cell_type": "code",
   "execution_count": 25,
   "metadata": {},
   "outputs": [
    {
     "data": {
      "text/plain": [
       "1027.9166666666667"
      ]
     },
     "execution_count": 25,
     "metadata": {},
     "output_type": "execute_result"
    }
   ],
   "source": [
    "#your code here\n",
    "note=[10,23,90,70,90, 80]\n",
    "def varyans_fonk(note):\n",
    "    moy=moyenne(note)\n",
    "    eka=sum((i-moy)**2 for i in note)\n",
    "    varyans=eka/len(note)\n",
    "    return varyans\n",
    "    \n",
    "varyans_fonk(note)"
   ]
  },
  {
   "cell_type": "markdown",
   "metadata": {},
   "source": [
    "3. Yo ba w yon lis nonb ki reprezante pwa yon gwoup moun an kilogram, ekri yon fonksyon Python ki pou kalkile eka-tip lis pwa moun sa yo."
   ]
  },
  {
   "cell_type": "code",
   "execution_count": 26,
   "metadata": {},
   "outputs": [
    {
     "data": {
      "text/plain": [
       "6.782329983125268"
      ]
     },
     "execution_count": 26,
     "metadata": {},
     "output_type": "execute_result"
    }
   ],
   "source": [
    "#your code here\n",
    "from math import *\n",
    "pwa=[50, 60, 55, 70, 55]\n",
    "def eka_tip_fonk(pwa):\n",
    "    return sqrt(varyans_fonk(pwa))\n",
    "\n",
    "eka_tip_fonk(pwa)\n",
    "\n",
    "    \n",
    "    "
   ]
  },
  {
   "cell_type": "markdown",
   "metadata": {},
   "source": [
    "4. Yo ba w yon lis ki reprezante salè yon lis anplwaye nan yon antrepriz, ekri yon fonksyon Python ki ap kalkile mwayèn, varyans, ak eka-tip lis salè sa yo."
   ]
  },
  {
   "cell_type": "code",
   "execution_count": 34,
   "metadata": {},
   "outputs": [
    {
     "name": "stdout",
     "output_type": "stream",
     "text": [
      "Mwayèn: 47142.857142857145\n",
      "Varyans: 67265306.12244897\n",
      "Écart-type: 8201.542911089899\n"
     ]
    }
   ],
   "source": [
    "#your code here\n",
    "sale = [35000, 45000, 55000, 47000, 38000, 50000, 60000]\n",
    "\n",
    "def kalkile_stats(sale):\n",
    "    mwayen = moyenne(sale)\n",
    "    varyans = varyans_fonk(sale)\n",
    "    eka_tip = eka_tip_fonk(sale)\n",
    "    return mwayen, varyans, eka_tip\n",
    "mwayen, varyans, eka_tip = kalkile_stats(sale)\n",
    "print(f\"Mwayèn: {mwayen}\")\n",
    "print(f\"Varyans: {varyans}\")\n",
    "print(f\"Écart-type: {eka_tip}\")\n",
    "\n",
    "\n"
   ]
  },
  {
   "cell_type": "markdown",
   "metadata": {},
   "source": [
    "5. Sa se popilasyon vil pòtoprens sou 2 ane diferan, ekri yon fonksyon Python ki ap kalkile pousantaj kwasans vil sa."
   ]
  },
  {
   "cell_type": "code",
   "execution_count": 35,
   "metadata": {},
   "outputs": [
    {
     "data": {
      "text/plain": [
       "10.000000000000009"
      ]
     },
     "execution_count": 35,
     "metadata": {},
     "output_type": "execute_result"
    }
   ],
   "source": [
    "#your code here\n",
    "def pousantaj_kwasans(pop_inisyal, pop_final):\n",
    "    try:\n",
    "        pousantaj_kwasans = ((pop_final / pop_inisyal) - 1) * 100\n",
    "        return pousantaj_kwasans\n",
    "    except ZeroDivisionError:\n",
    "        return \"Popilasyon inisyal pa ka zewo.\"\n",
    "pousantaj_kwasans(50000,55000)\n",
    "    "
   ]
  },
  {
   "cell_type": "markdown",
   "metadata": {},
   "source": [
    "6. Itilize fòmil kwasans eksponansyèl la, pou w predi popilasyon vil pòtoprens aprè yon kantite ane."
   ]
  },
  {
   "cell_type": "markdown",
   "metadata": {},
   "source": [
    "                        Fòmil la se:\n",
    "\n",
    "                                P(f) = P(k) x (1 + r)**t\n",
    "\n",
    "                                p(k) => Popilasyon kounya \n",
    "                                r => kwasans anyèl la\n",
    "                                t => kantite lane prediksyon an\n",
    "                        Teste l ak:\n",
    "                                current_population = 60000\n",
    "                                annual_growth_rate = 0.03  # 3%\n",
    "                                years_future = 10\n",
    "\n",
    "                                predict_future(current_population, annual_growth_rate, years)"
   ]
  },
  {
   "cell_type": "code",
   "execution_count": 37,
   "metadata": {},
   "outputs": [
    {
     "name": "stdout",
     "output_type": "stream",
     "text": [
      "80634\n"
     ]
    }
   ],
   "source": [
    "#your code here\n",
    "def prediksyon(pop_konnya, r,t):\n",
    "    pop_final=pop_konnya*(1+r)**t\n",
    "    return pop_final\n",
    "predict_future= int(prediksyon(60000,0.03,10))\n",
    "print(predict_future)"
   ]
  },
  {
   "cell_type": "markdown",
   "metadata": {},
   "source": [
    "Fè rechèch, epi anrichi lespri w sou :\n",
    "\n",
    "a. Median and Mode\n",
    "\n",
    "b. Correlation and Covariance\n",
    "\n",
    "c. Quartiles and Interquartile Range (IQR)\n",
    "\n",
    "d. Linear Regression (Opsyonèl pou kounya)"
   ]
  }
 ],
 "metadata": {
  "kernelspec": {
   "display_name": "Python 3",
   "language": "python",
   "name": "python3"
  },
  "language_info": {
   "codemirror_mode": {
    "name": "ipython",
    "version": 3
   },
   "file_extension": ".py",
   "mimetype": "text/x-python",
   "name": "python",
   "nbconvert_exporter": "python",
   "pygments_lexer": "ipython3",
   "version": "3.11.9"
  }
 },
 "nbformat": 4,
 "nbformat_minor": 2
}
