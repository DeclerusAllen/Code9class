{
 "cells": [
  {
   "cell_type": "markdown",
   "metadata": {},
   "source": [
    "1. Mwayèn-->Mean\n",
    "2. Varyans-->Variance\n",
    "3. Ekatip-->Standard deviation"
   ]
  },
  {
   "cell_type": "code",
   "execution_count": 12,
   "metadata": {},
   "outputs": [
    {
     "data": {
      "text/plain": [
       "1445.2857142857142"
      ]
     },
     "execution_count": 12,
     "metadata": {},
     "output_type": "execute_result"
    }
   ],
   "source": [
    "from math import *\n",
    "scores=[2,4,8,9,4,90,10000]\n",
    "def mwayen(scores):\n",
    "    som=sum(scores)\n",
    "    total=len(scores)\n",
    "    mean=som/total\n",
    "    return mean\n",
    "\n",
    "mwayen(scores)\n",
    "\n",
    "\n"
   ]
  },
  {
   "cell_type": "code",
   "execution_count": 13,
   "metadata": {},
   "outputs": [
    {
     "data": {
      "text/plain": [
       "12198046.48979592"
      ]
     },
     "execution_count": 13,
     "metadata": {},
     "output_type": "execute_result"
    }
   ],
   "source": [
    "def varyans(scr):\n",
    "    moy=mwayen(scores)\n",
    "    som_eka=sum((x-moy)**2 for x in scores)\n",
    "    varyans=som_eka/len(scores)\n",
    "    return varyans\n",
    "varyans(scores)\n"
   ]
  },
  {
   "cell_type": "code",
   "execution_count": 14,
   "metadata": {},
   "outputs": [
    {
     "data": {
      "text/plain": [
       "3492.5701839470485"
      ]
     },
     "execution_count": 14,
     "metadata": {},
     "output_type": "execute_result"
    }
   ],
   "source": [
    "def ekatip():\n",
    "    eka=sqrt(varyans(scores))\n",
    "    return eka\n",
    "\n",
    "\n",
    "ekatip()"
   ]
  }
 ],
 "metadata": {
  "kernelspec": {
   "display_name": "Python 3",
   "language": "python",
   "name": "python3"
  },
  "language_info": {
   "codemirror_mode": {
    "name": "ipython",
    "version": 3
   },
   "file_extension": ".py",
   "mimetype": "text/x-python",
   "name": "python",
   "nbconvert_exporter": "python",
   "pygments_lexer": "ipython3",
   "version": "3.11.9"
  }
 },
 "nbformat": 4,
 "nbformat_minor": 2
}
